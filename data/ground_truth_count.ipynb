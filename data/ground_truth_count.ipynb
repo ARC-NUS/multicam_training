{
 "cells": [
  {
   "cell_type": "markdown",
   "metadata": {},
   "source": [
    "## Ground Truth Counts"
   ]
  },
  {
   "cell_type": "code",
   "execution_count": null,
   "metadata": {},
   "outputs": [],
   "source": [
    "file = open(\"/home/sf/depth_naive_estimation/distance_vs_pixel\", \"r+\")\n",
    "data_rows = file.readlines()[:16]\n",
    "file.close()"
   ]
  },
  {
   "cell_type": "code",
   "execution_count": 27,
   "metadata": {},
   "outputs": [],
   "source": [
    "import os\n",
    "labels = [x for x in os.listdir('/media/sf/61CEC7C06EDB83CC/bdd100k/images_416/100k/val/') if x[-3:]=='txt']"
   ]
  },
  {
   "cell_type": "code",
   "execution_count": 28,
   "metadata": {},
   "outputs": [],
   "source": [
    "count = [0 for x in range(7)]\n",
    "for file in labels:\n",
    "    file = open(\"/media/sf/61CEC7C06EDB83CC/bdd100k/images_416/100k/val/\"+file, \"r+\")\n",
    "    data_rows = file.readlines()\n",
    "    file.close()\n",
    "    \n",
    "    obj = [int(row.split()[0]) for row in data_rows]\n",
    "    for x in obj:\n",
    "        count[x]+=1"
   ]
  },
  {
   "cell_type": "code",
   "execution_count": 38,
   "metadata": {},
   "outputs": [],
   "source": [
    "train_count"
   ]
  },
  {
   "cell_type": "code",
   "execution_count": 40,
   "metadata": {},
   "outputs": [
    {
     "data": {
      "text/plain": [
       "[13911, 1007, 102506, 452, 1597, 4245]"
      ]
     },
     "execution_count": 40,
     "metadata": {},
     "output_type": "execute_result"
    }
   ],
   "source": [
    "val_count"
   ]
  },
  {
   "cell_type": "code",
   "execution_count": 41,
   "metadata": {},
   "outputs": [],
   "source": [
    "classes = ['person', 'bicycle', 'car', 'motorbike', 'bus','truck']\n",
    "val_TP = [2748,126,46878, 23, 462, 1216]"
   ]
  },
  {
   "cell_type": "code",
   "execution_count": 42,
   "metadata": {},
   "outputs": [],
   "source": [
    "recall = [val_TP[x]/val_count[x] for x in range(len(classes))]"
   ]
  },
  {
   "cell_type": "code",
   "execution_count": 54,
   "metadata": {},
   "outputs": [],
   "source": [
    "recalls = dict()\n",
    "for i in range(len(classes)):\n",
    "    recalls.update({classes[i]:round(recall[i],4)})"
   ]
  },
  {
   "cell_type": "code",
   "execution_count": 55,
   "metadata": {},
   "outputs": [
    {
     "data": {
      "text/plain": [
       "{'bicycle': 0.1251,\n",
       " 'bus': 0.2893,\n",
       " 'car': 0.4573,\n",
       " 'motorbike': 0.0509,\n",
       " 'person': 0.1975,\n",
       " 'truck': 0.2865}"
      ]
     },
     "execution_count": 55,
     "metadata": {},
     "output_type": "execute_result"
    }
   ],
   "source": [
    "recalls"
   ]
  },
  {
   "cell_type": "code",
   "execution_count": null,
   "metadata": {},
   "outputs": [],
   "source": []
  }
 ],
 "metadata": {
  "kernelspec": {
   "display_name": "Python 3",
   "language": "python",
   "name": "python3"
  },
  "language_info": {
   "codemirror_mode": {
    "name": "ipython",
    "version": 3
   },
   "file_extension": ".py",
   "mimetype": "text/x-python",
   "name": "python",
   "nbconvert_exporter": "python",
   "pygments_lexer": "ipython3",
   "version": "3.5.2"
  }
 },
 "nbformat": 4,
 "nbformat_minor": 2
}
